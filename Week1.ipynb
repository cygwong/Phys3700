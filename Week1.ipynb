{
 "cells": [
  {
   "cell_type": "markdown",
   "metadata": {},
   "source": [
    "# This is Week 1.  \n",
    "\n",
    "We're doing an intro to digital signal processing and some basic statistics.  We'll read files and write to files and do some plotting.  A lot of the tutorial-type examples were taken from w3schools.com and python-course.eu\n",
    "\n",
    "They need to\n",
    "* Get Anaconda\n",
    "* Start Jupyter\n",
    "* Command mode vs edit mode\n",
    "* Shortcuts\n",
    "* Quick commands to do some easy calculations\n",
    "* Play with numpy/scipy\n",
    "* Open a file (my file), read some stuff\n",
    "* Find the mean, std, var, snr\n",
    "* Histograms, PMFs, PDFs\n",
    "* Generate random numbers from a distribution\n"
   ]
  },
  {
   "cell_type": "markdown",
   "metadata": {},
   "source": [
    "# Heading 1\n",
    "## Heading 2\n",
    "### Heading 3\n",
    "#### Heading 4\n",
    "\n",
    "<span style=\"color:blue\">some *blue* text</span>\n",
    "\n",
    "#### Some random math\n",
    "\\begin{align}\n",
    "\\dot{x} & = \\sigma(y-x) \\\\\n",
    "\\dot{y} & = \\rho x - y - xz \\\\\n",
    "\\dot{z} & = -\\beta z + xy\n",
    "\\end{align}\n",
    "\n",
    "I'm going to try and an include an image here opengraph-icon-200x200.png\n",
    "![TEST FIG](opengraph-icon-200x200.png)"
   ]
  },
  {
   "cell_type": "code",
   "execution_count": 1,
   "metadata": {},
   "outputs": [
    {
     "name": "stdout",
     "output_type": "stream",
     "text": [
      "Hello Anaconda!\n"
     ]
    }
   ],
   "source": [
    "print(\"Hello Anaconda!\")"
   ]
  },
  {
   "cell_type": "markdown",
   "metadata": {},
   "source": [
    "## Variables\n",
    "You don't need to declare them, just set them"
   ]
  },
  {
   "cell_type": "code",
   "execution_count": 2,
   "metadata": {},
   "outputs": [
    {
     "name": "stdout",
     "output_type": "stream",
     "text": [
      "3\n",
      "Tyron\n"
     ]
    }
   ],
   "source": [
    "x = 3\n",
    "y = \"Tyron\"\n",
    "print(x)\n",
    "print(y)    "
   ]
  },
  {
   "cell_type": "code",
   "execution_count": 3,
   "metadata": {},
   "outputs": [
    {
     "name": "stdout",
     "output_type": "stream",
     "text": [
      "Python is life\n"
     ]
    }
   ],
   "source": [
    "x = \"Python is \"\n",
    "y = \"life\"\n",
    "z =  x + y\n",
    "print(z)"
   ]
  },
  {
   "cell_type": "code",
   "execution_count": 4,
   "metadata": {},
   "outputs": [
    {
     "name": "stdout",
     "output_type": "stream",
     "text": [
      "10.1\n"
     ]
    }
   ],
   "source": [
    "x = 3.4\n",
    "y = 6.7\n",
    "z =  x + y\n",
    "print(z)"
   ]
  },
  {
   "cell_type": "code",
   "execution_count": 5,
   "metadata": {},
   "outputs": [
    {
     "name": "stdout",
     "output_type": "stream",
     "text": [
      "<class 'int'>\n",
      "<class 'float'>\n",
      "<class 'complex'>\n"
     ]
    }
   ],
   "source": [
    "x = 1    # int\n",
    "y = 2.8e6  # float\n",
    "z = 1j   # complex\n",
    "print(type(x))\n",
    "print(type(y))\n",
    "print(type(z))"
   ]
  },
  {
   "cell_type": "markdown",
   "metadata": {},
   "source": [
    "### Casting\n",
    "Casting is also useful in data analysis and file i/o"
   ]
  },
  {
   "cell_type": "code",
   "execution_count": 6,
   "metadata": {},
   "outputs": [],
   "source": [
    "x = int(2.8)     # x will be 2\n",
    "y = float(\"3\")   # y will be 3.0\n",
    "z = str(2)       # z will be '2'"
   ]
  },
  {
   "cell_type": "markdown",
   "metadata": {},
   "source": [
    "### Strings\n",
    "Strings in python are surrounded by either single or double quotes."
   ]
  },
  {
   "cell_type": "code",
   "execution_count": 7,
   "metadata": {
    "scrolled": true
   },
   "outputs": [
    {
     "name": "stdout",
     "output_type": "stream",
     "text": [
      "llo, \n"
     ]
    }
   ],
   "source": [
    "b = \"Hello, World!\"\n",
    "print(b[2:7])"
   ]
  },
  {
   "cell_type": "code",
   "execution_count": 8,
   "metadata": {},
   "outputs": [
    {
     "name": "stdout",
     "output_type": "stream",
     "text": [
      "Hello, World!\n"
     ]
    }
   ],
   "source": [
    "a = \" Hello, World! \"\n",
    "print(a.strip()) # returns \"Hello, World!\""
   ]
  },
  {
   "cell_type": "code",
   "execution_count": 9,
   "metadata": {},
   "outputs": [
    {
     "name": "stdout",
     "output_type": "stream",
     "text": [
      "13\n"
     ]
    }
   ],
   "source": [
    "a = \"Hello, World!\"\n",
    "print(len(a))"
   ]
  },
  {
   "cell_type": "code",
   "execution_count": 10,
   "metadata": {},
   "outputs": [
    {
     "name": "stdout",
     "output_type": "stream",
     "text": [
      "Jello, World!\n"
     ]
    }
   ],
   "source": [
    "a = \"Hello, World!\"\n",
    "print(a.replace(\"H\", \"J\"))"
   ]
  },
  {
   "cell_type": "code",
   "execution_count": 11,
   "metadata": {},
   "outputs": [
    {
     "name": "stdout",
     "output_type": "stream",
     "text": [
      "['Hello', ' World!']\n"
     ]
    }
   ],
   "source": [
    "a = \"Hello, World!\"\n",
    "print(a.split(\",\")) # returns ['Hello', ' World!']"
   ]
  },
  {
   "cell_type": "code",
   "execution_count": 12,
   "metadata": {},
   "outputs": [
    {
     "name": "stdout",
     "output_type": "stream",
     "text": [
      "Enter your name:\n",
      "gordon\n",
      "Hello, gordon\n"
     ]
    }
   ],
   "source": [
    "print(\"Enter your name:\")\n",
    "x = input()\n",
    "print(\"Hello, \" + x)"
   ]
  },
  {
   "cell_type": "markdown",
   "metadata": {},
   "source": [
    "### Arrays\n",
    "There are four collection data types (arrays) in the Python programming language:\n",
    "\n",
    "* List is a collection which is ordered and changeable. Allows duplicate members. []\n",
    "* Tuple is a collection which is ordered and unchangeable. Allows duplicate members. ()\n",
    "* Set is a collection which is unordered and unindexed. No duplicate members. {}\n",
    "* Dictionary is a collection which is unordered, changeable and indexed. No duplicate members {:}\n",
    "\n",
    "When choosing a collection type, it is useful to understand the properties of that type. Choosing the right type for a particular data set could mean retention of meaning, and, it could mean an increase in efficiency or security.\n",
    "\n",
    "We will often need to build a list of floats or integers based on data we're reading in or writing.  If you know the number of elements in your list, you can just initialize the list, then fill it."
   ]
  },
  {
   "cell_type": "code",
   "execution_count": 13,
   "metadata": {},
   "outputs": [
    {
     "name": "stdout",
     "output_type": "stream",
     "text": [
      "[0.0, 2.0, 4.0, 6.0, 8.0, 10.0, 12.0, 14.0, 16.0, 18.0]\n"
     ]
    }
   ],
   "source": [
    "i=0\n",
    "j=[0]*10\n",
    "while i<10:\n",
    "    j[i]=float(i*2)\n",
    "    i+=1\n",
    "\n",
    "print(j)"
   ]
  },
  {
   "cell_type": "markdown",
   "metadata": {},
   "source": [
    "If you don't know the number of elements in your list, you can set an empty list, then append elements to it."
   ]
  },
  {
   "cell_type": "code",
   "execution_count": 14,
   "metadata": {},
   "outputs": [
    {
     "name": "stdout",
     "output_type": "stream",
     "text": [
      "[0.0, 5.0, 10.0, 15.0, 20.0, 25.0, 30.0, 35.0, 40.0, 45.0, 50.0, 55.0]\n"
     ]
    }
   ],
   "source": [
    "j=[]\n",
    "for i in range(12):\n",
    "    j.append(float(i)*5)\n",
    "\n",
    "print(j)"
   ]
  },
  {
   "cell_type": "markdown",
   "metadata": {},
   "source": [
    "# Functions\n",
    "A function is a block of code which only runs when it is called.\n",
    "\n",
    "You can pass data, known as parameters, into a function.\n",
    "\n",
    "A function can return data as a result."
   ]
  },
  {
   "cell_type": "code",
   "execution_count": 15,
   "metadata": {},
   "outputs": [
    {
     "name": "stdout",
     "output_type": "stream",
     "text": [
      "I am from Sweden\n",
      "I am from India\n",
      "I am from Norway\n",
      "I am from Brazil\n"
     ]
    }
   ],
   "source": [
    "def my_function(country = \"Norway\"):\n",
    "  print(\"I am from \" + country)\n",
    "\n",
    "my_function(\"Sweden\")\n",
    "my_function(\"India\")\n",
    "my_function()\n",
    "my_function(\"Brazil\")"
   ]
  },
  {
   "cell_type": "code",
   "execution_count": 16,
   "metadata": {},
   "outputs": [
    {
     "name": "stdout",
     "output_type": "stream",
     "text": [
      "15\n",
      "25\n",
      "45\n"
     ]
    }
   ],
   "source": [
    "def my_function(x):\n",
    "  return 5 * x\n",
    "\n",
    "print(my_function(3))\n",
    "print(my_function(5))\n",
    "print(my_function(9))"
   ]
  },
  {
   "cell_type": "markdown",
   "metadata": {},
   "source": [
    "### Lambda function\n",
    "A lambda function is a small anonymous function.\n",
    "\n",
    "A lambda function can take any number of arguments, but can only have one expression.\n",
    "\n",
    "The power of lambda is better shown when you use them as an anonymous function inside another function."
   ]
  },
  {
   "cell_type": "code",
   "execution_count": 17,
   "metadata": {},
   "outputs": [
    {
     "name": "stdout",
     "output_type": "stream",
     "text": [
      "22\n"
     ]
    }
   ],
   "source": [
    "def myfunc(n):\n",
    "  return lambda a : a * n\n",
    "\n",
    "mydoubler = myfunc(2)\n",
    "\n",
    "print(mydoubler(11))"
   ]
  },
  {
   "cell_type": "markdown",
   "metadata": {},
   "source": [
    "### File Handling\n",
    "The key function for working with files in Python is the `open()` function.\n",
    "\n",
    "The `open()` function takes two parameters; filename, and mode.\n",
    "\n",
    "There are four different methods (modes) for opening a file:\n",
    "\n",
    "* \"r\" - Read - Default value. Opens a file for reading, error if the file does not exist\n",
    "\n",
    "* \"a\" - Append - Opens a file for appending, creates the file if it does not exist\n",
    "\n",
    "* \"w\" - Write - Opens a file for writing, creates the file if it does not exist\n",
    "\n",
    "* \"x\" - Create - Creates the specified file, returns an error if the file exists"
   ]
  },
  {
   "cell_type": "code",
   "execution_count": 18,
   "metadata": {},
   "outputs": [
    {
     "name": "stdout",
     "output_type": "stream",
     "text": [
      "[[1. 2. 3.]\n",
      " [4. 5. 6.]\n",
      " [7. 8. 9.]]\n",
      "[[1. 3.]\n",
      " [4. 6.]\n",
      " [7. 9.]]\n",
      "[2. 5. 8.]\n"
     ]
    }
   ],
   "source": [
    "import numpy as np\n",
    "x = np.array([[1, 2, 3], \n",
    "              [4, 5, 6],\n",
    "              [7, 8, 9]], np.int32)\n",
    "np.savetxt(\"test1.txt\", x)\n",
    "np.savetxt(\"test2.txt\", x, fmt=\"%2.3f\", delimiter=\",\")\n",
    "np.savetxt(\"test3.txt\", x, fmt=\"%04d\", delimiter=\":\")\n",
    "\n",
    "y = np.loadtxt(\"test2.txt\", delimiter=\",\")\n",
    "print(y)\n",
    "\n",
    "y = np.loadtxt(\"test3.txt\", delimiter=\":\", usecols=(0,2))\n",
    "print(y)\n",
    "\n",
    "z = np.loadtxt(\"test3.txt\", delimiter=\":\", usecols=(1))\n",
    "print(z)"
   ]
  },
  {
   "cell_type": "markdown",
   "metadata": {},
   "source": [
    "### Here we're going to read in wind speed data into `ws`"
   ]
  },
  {
   "cell_type": "code",
   "execution_count": 19,
   "metadata": {},
   "outputs": [
    {
     "name": "stdout",
     "output_type": "stream",
     "text": [
      "[17.5 10.  15.5 ...  5.5  7.5  5.5]\n"
     ]
    }
   ],
   "source": [
    "import numpy as np\n",
    "ws = np.loadtxt(\"weatherstats_vancouver_daily.csv\", delimiter=\",\", usecols=(17), skiprows=(1))\n",
    "print(ws)"
   ]
  },
  {
   "cell_type": "code",
   "execution_count": 20,
   "metadata": {
    "scrolled": true
   },
   "outputs": [
    {
     "name": "stdout",
     "output_type": "stream",
     "text": [
      "Wind Speed Mean: 13.63 km/h\n",
      "Wind Speed STD:  5.87 km/h\n",
      "Wind Speed Variance: 34.45 km/h\n",
      "Wind Speed Signal to Noise:  2.32 km/h\n"
     ]
    }
   ],
   "source": [
    "print(\"Wind Speed Mean: %5.2f km/h\" % (np.mean(ws)))\n",
    "print(\"Wind Speed STD: %5.2f km/h\" % (np.std(ws)))\n",
    "print(\"Wind Speed Variance: %5.2f km/h\" %(np.var(ws)))\n",
    "print(\"Wind Speed Signal to Noise: %5.2f km/h\" %(np.mean(ws)/np.std(ws)))"
   ]
  },
  {
   "cell_type": "markdown",
   "metadata": {},
   "source": [
    "Just a quick test of format strings as output"
   ]
  },
  {
   "cell_type": "code",
   "execution_count": 21,
   "metadata": {},
   "outputs": [
    {
     "data": {
      "text/plain": [
       "'First argument: 47, second one: 11'"
      ]
     },
     "execution_count": 21,
     "metadata": {},
     "output_type": "execute_result"
    }
   ],
   "source": [
    "\"First argument: {0}, second one: {1}\".format(47,11) "
   ]
  },
  {
   "cell_type": "markdown",
   "metadata": {},
   "source": [
    "## Here we'll use `mathplotlib` to make a bar chart."
   ]
  },
  {
   "cell_type": "code",
   "execution_count": 22,
   "metadata": {},
   "outputs": [
    {
     "data": {
      "text/plain": [
       "<Figure size 640x480 with 1 Axes>"
      ]
     },
     "metadata": {},
     "output_type": "display_data"
    }
   ],
   "source": [
    "import matplotlib.pyplot as plt\n",
    "\n",
    "objects = ('D', 'C', 'AA', 'AAA', 'AAAA')\n",
    "y_pos = np.arange(len(objects))\n",
    "performance = [58., 46., 50., 44.5, 40.2]\n",
    " \n",
    "plt.bar(y_pos, performance, align='center', alpha=0.5)\n",
    "plt.xticks(y_pos, objects)\n",
    "plt.ylabel('Length (mm)')\n",
    "plt.title('Battery Lengths')\n",
    " \n",
    "plt.show()\n"
   ]
  },
  {
   "cell_type": "code",
   "execution_count": 23,
   "metadata": {},
   "outputs": [
    {
     "data": {
      "image/png": "[encoded data removed]",
      "text/plain": [
       "<Figure size 432x288 with 1 Axes>"
      ]
     },
     "metadata": {
      "needs_background": "light"
     },
     "output_type": "display_data"
    }
   ],
   "source": [
    "import matplotlib.pyplot as plt\n",
    "\n",
    "plt.hist(ws, bins='auto') # Quick histogram with settings on 'auto'\n",
    "plt.xlabel('Wind Speed (km/h)')\n",
    "plt.ylabel('Days')\n",
    "plt.title('YVR Wind Speed Data')\n",
    "plt.savefig(\"YVR_WS_Histo.pdf\", dpi=150)\n",
    "plt.show()"
   ]
  },
  {
   "cell_type": "markdown",
   "metadata": {},
   "source": [
    "### More histogram options. \n",
    "\n",
    "`n` is the height of the bars. `bins` is the position of the bins and `patches` references the actual blocks used to make the histogram so you can change the block properties."
   ]
  },
  {
   "cell_type": "code",
   "execution_count": 24,
   "metadata": {},
   "outputs": [
    {
     "data": {
      "image/png": "[encoded data removed]",
      "text/plain": [
       "<Figure size 432x288 with 1 Axes>"
      ]
     },
     "metadata": {
      "needs_background": "light"
     },
     "output_type": "display_data"
    }
   ],
   "source": [
    "# the histogram of the data \n",
    "n, bins, patches = plt.hist(ws, 40, density=False, facecolor='g', alpha=0.75)\n",
    "\n",
    "plt.setp(patches[20], 'facecolor', 'b')\n",
    "\n",
    "plt.text(20, 65, r'$\\bar{x}=$%5.2f   $\\sigma=$%5.2f' % (np.mean(ws),np.std(ws)))\n",
    "plt.axis([0, 40, 0, 100])\n",
    "plt.grid(True)\n",
    "\n",
    "plt.xlabel('Wind Speed (km/h)')\n",
    "plt.ylabel('Days')\n",
    "plt.title('YVR Wind Speed Data')\n",
    "plt.savefig(\"YVR_WS_Histo.pdf\", dpi=150)\n",
    "plt.show()"
   ]
  },
  {
   "cell_type": "markdown",
   "metadata": {},
   "source": [
    "### Random Numbers."
   ]
  },
  {
   "cell_type": "code",
   "execution_count": 25,
   "metadata": {},
   "outputs": [
    {
     "name": "stdout",
     "output_type": "stream",
     "text": [
      "27\n",
      "9\n",
      "5\n",
      "24\n",
      "62\n",
      "86\n",
      "16\n",
      "74\n",
      "73\n",
      "95\n"
     ]
    }
   ],
   "source": [
    "import random\n",
    "for x in range(10):\n",
    "  print(random.randint(1,101))"
   ]
  },
  {
   "cell_type": "markdown",
   "metadata": {},
   "source": [
    "### Histograms of Random Numbers.\n",
    "First we'll sample numbers from a uniform distribution and plot a histogram of the values, then we'll sample numbers from a normal (Gaussian) distribution and make another histogram.  The histogram of the normal distribution includes an overlay of the matching normal function."
   ]
  },
  {
   "cell_type": "code",
   "execution_count": 26,
   "metadata": {},
   "outputs": [
    {
     "data": {
      "image/png": "[encoded data removed]",
      "text/plain": [
       "<Figure size 864x288 with 2 Axes>"
      ]
     },
     "metadata": {
      "needs_background": "light"
     },
     "output_type": "display_data"
    },
    {
     "data": {
      "image/png": "[encoded data removed]",
      "text/plain": [
       "<Figure size 864x288 with 2 Axes>"
      ]
     },
     "metadata": {
      "needs_background": "light"
     },
     "output_type": "display_data"
    }
   ],
   "source": [
    "import numpy as np\n",
    "import matplotlib.pyplot as plt\n",
    "from scipy.stats import norm\n",
    "\n",
    "vet = np.random.randint(0, 10, 1000)\n",
    "\n",
    "plt.figure(figsize=(12,4))\n",
    "plt.subplot(1,2,1)\n",
    "plt.plot(vet)\n",
    "plt.subplot(1,2,2)\n",
    "n,bins,patches=plt.hist(vet,10)\n",
    "plt.show()\n",
    "\n",
    "vet = np.random.normal(0, 10, 1000)  \n",
    "\n",
    "plt.figure(figsize=(12,4))\n",
    "np.savetxt('output.txt',vet)\n",
    "plt.subplot(1,2,1)\n",
    "plt.plot(vet)\n",
    "plt.subplot(1,2,2)\n",
    "n,bins,patches=plt.hist(vet,10, density=True)\n",
    "\n",
    "x_axis = np.arange(-40, 40, 0.01)\n",
    "plt.plot(x_axis, norm.pdf(x_axis,np.mean(vet),np.std(vet)))\n",
    "\n",
    "plt.show()"
   ]
  },
  {
   "cell_type": "markdown",
   "metadata": {},
   "source": [
    "### Another histogram example with options."
   ]
  },
  {
   "cell_type": "code",
   "execution_count": 27,
   "metadata": {},
   "outputs": [
    {
     "name": "stdout",
     "output_type": "stream",
     "text": [
      "<a list of 50 Patch objects>\n"
     ]
    },
    {
     "data": {
      "image/png": "[encoded data removed]",
      "text/plain": [
       "<Figure size 432x288 with 1 Axes>"
      ]
     },
     "metadata": {
      "needs_background": "light"
     },
     "output_type": "display_data"
    }
   ],
   "source": [
    "# Fixing random state for reproducibility\n",
    "np.random.seed(19680801)\n",
    "\n",
    "mu, sigma = 100, 15\n",
    "x = mu + sigma * np.random.randn(10000)\n",
    "\n",
    "# the histogram of the data\n",
    "n, bins, patches = plt.hist(x, 50, density=True, facecolor='g', alpha=0.75)\n",
    "\n",
    "print(patches)\n",
    "plt.setp(patches[25], 'facecolor', 'b')\n",
    "\n",
    "plt.xlabel('Smarts')\n",
    "plt.ylabel('Probability')\n",
    "plt.title('Histogram of IQ')\n",
    "plt.text(60, .025, r'$\\mu=100,\\ \\sigma=15$')\n",
    "plt.axis([40, 160, 0, 0.03])\n",
    "plt.grid(True)\n",
    "plt.show()"
   ]
  },
  {
   "cell_type": "markdown",
   "metadata": {},
   "source": [
    "### Central Limit Theorem\n",
    "Here I'm going to try to show the central limit theorem.  Add uniform random numbers until I get a sample that looks normal."
   ]
  },
  {
   "cell_type": "code",
   "execution_count": 28,
   "metadata": {},
   "outputs": [
    {
     "name": "stdout",
     "output_type": "stream",
     "text": [
      "1.0324906864982133 6.476817564898627\n"
     ]
    },
    {
     "data": {
      "image/png": "[encoded data removed]",
      "text/plain": [
       "<Figure size 432x288 with 1 Axes>"
      ]
     },
     "metadata": {
      "needs_background": "light"
     },
     "output_type": "display_data"
    }
   ],
   "source": [
    "import random\n",
    "import numpy as np\n",
    "import matplotlib.pyplot as plt\n",
    "from scipy.stats import norm\n",
    "\n",
    "np.random.seed(19680801)\n",
    "\n",
    "j=0\n",
    "s=[0]*1000\n",
    "while j<1000:\n",
    "    s[j]=random.random()\n",
    "#    print(s[j])\n",
    "    i=0\n",
    "    while i<12:\n",
    "        s[j]=s[j]+random.random()\n",
    "        i+=1\n",
    "    j+=1\n",
    "    \n",
    "#s=s*5\n",
    "x=np.arange(1000)\n",
    "\n",
    "print(np.std(s),np.mean(s))\n",
    "\n",
    "#plt.scatter(x,s)\n",
    "#plt.show()\n",
    "\n",
    "count, bins, ignored = plt.hist(s, 15, density=False)\n",
    "plt.plot(bins, np.ones_like(bins))#, linewidth=2, color='r')\n",
    "plt.show()"
   ]
  },
  {
   "cell_type": "markdown",
   "metadata": {},
   "source": [
    "### And another way to generate normally distributed random numbers.\n",
    "Here's that function $X=(-2\\log R_1)^{1/2}\\cos(2\\pi R_2)$"
   ]
  },
  {
   "cell_type": "code",
   "execution_count": 29,
   "metadata": {},
   "outputs": [
    {
     "name": "stdout",
     "output_type": "stream",
     "text": [
      "0.9823601801566394\n"
     ]
    },
    {
     "data": {
      "image/png": "[encoded data removed]",
      "text/plain": [
       "<Figure size 432x288 with 1 Axes>"
      ]
     },
     "metadata": {
      "needs_background": "light"
     },
     "output_type": "display_data"
    }
   ],
   "source": [
    "import numpy as np\n",
    "import matplotlib.pyplot as plt\n",
    "\n",
    "j=0\n",
    "s=[0]*10000\n",
    "while j<10000:\n",
    "    r1=np.random.uniform(0,1)\n",
    "    r2=np.random.uniform(0,1)\n",
    "    s[j]=(-2*np.log(r1))**0.5*np.cos(2*np.pi*r2)\n",
    "    j+=1\n",
    "    \n",
    "x=np.arange(1000)\n",
    "\n",
    "print(np.std(s))\n",
    "\n",
    "#plt.scatter(x,s)\n",
    "#plt.show()\n",
    "\n",
    "count, bins, ignored = plt.hist(s, 15, density=False)\n",
    "plt.plot(bins, np.ones_like(bins), linewidth=2, color='w')\n",
    "plt.show()"
   ]
  },
  {
   "cell_type": "code",
   "execution_count": 30,
   "metadata": {},
   "outputs": [
    {
     "name": "stdout",
     "output_type": "stream",
     "text": [
      "[16.0] [0.33333333] [16.33333333] [16.33333333]\n"
     ]
    }
   ],
   "source": [
    "import numpy as np\n",
    "dataday, datarise = np.genfromtxt(\"weatherstats_vancouver_daily.csv\", delimiter=\",\", usecols=(0,46),dtype='str',unpack=True)\n",
    "\n",
    "daylist=dataday.tolist() # This changes the np.array to a list so we can strip the hyphen\n",
    "riselist=datarise.tolist() # I'm only saving the rise times here, but you'll need the set ones too\n",
    "\n",
    "delimiter = '-'\n",
    "delimiter2 = ':'\n",
    "month=[0.]*(3000-1)\n",
    "day=[0.]*(3000-1)\n",
    "hours=[0.]*(3000-1)\n",
    "mins=[0.]*(3000-1)\n",
    "sec=[0.]*(3000-1)\n",
    "\n",
    "i=1\n",
    "\n",
    "while i<3000:\n",
    "    date=daylist[i].split(delimiter) #Strip the hyphen and store the month and day\n",
    "    month[i-1]=list(map(float, date[1:2])) #Maps the list of strings into floats and back into an array\n",
    "    day[i-1]=list(map(float, date[2:3]))\n",
    "    \n",
    "    time=riselist[i].split(delimiter2)\n",
    "    hours[i-1]=list(map(float, time[0:1]))\n",
    "    mins[i-1]=list(map(float, time[1:2]))\n",
    "    sec[i-1]=list(map(float, time[2:3]))\n",
    "    \n",
    "    i+=1\n",
    "#print(i,mins[3001])\n",
    "i=1\n",
    "calmonth=[0.]*365\n",
    "calday=[0.]*365\n",
    "test1=[0.]*365\n",
    "while i<366:\n",
    "    calday[i-1]=day[i]  #Not really gonna say what I was trying here, but I'll leave it as a clue\n",
    "    calmonth[i-1]=month[i] #you don't have to use this, it's just something i was thinking of using later\n",
    "    i+=1\n",
    "\n",
    "mins = np.divide(mins,60.)\n",
    "sec = np.divide(sec,3600.)\n",
    "time = np.add(hours,mins,sec)  #adding hours to mins to sec to give a float version of time\n",
    "\n",
    "print(hours[1],mins[1],sec[1],time[1])"
   ]
  },
  {
   "cell_type": "code",
   "execution_count": null,
   "metadata": {},
   "outputs": [],
   "source": []
  }
 ],
 "metadata": {
  "kernelspec": {
   "display_name": "Python 3",
   "language": "python",
   "name": "python3"
  },
  "language_info": {
   "codemirror_mode": {
    "name": "ipython",
    "version": 3
   },
   "file_extension": ".py",
   "mimetype": "text/x-python",
   "name": "python",
   "nbconvert_exporter": "python",
   "pygments_lexer": "ipython3",
   "version": "3.7.1"
  }
 },
 "nbformat": 4,
 "nbformat_minor": 2
}
